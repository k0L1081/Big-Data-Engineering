{
 "cells": [
  {
   "cell_type": "markdown",
   "metadata": {},
   "source": [
    "### Compute minimum and maximum temperatures by location. ###\n",
    "\n",
    "Start by computing the minimum temperature for each location.\n",
    "\n",
    "Afterwards, enhance program to compute both minimum and maximum temperatures for each location."
   ]
  },
  {
   "cell_type": "code",
   "execution_count": 43,
   "metadata": {
    "collapsed": false
   },
   "outputs": [
    {
     "name": "stdout",
     "output_type": "stream",
     "text": [
      "Spinning up Spark cluster ...\n"
     ]
    },
    {
     "data": {
      "text/html": [
       "\n",
       "        <div>\n",
       "            <p><b>SparkContext</b></p>\n",
       "\n",
       "            <p><a href=\"http://10.0.0.30:4043\">Spark UI</a></p>\n",
       "\n",
       "            <dl>\n",
       "              <dt>Version</dt>\n",
       "                <dd><code>v2.2.0</code></dd>\n",
       "              <dt>Master</dt>\n",
       "                <dd><code>local</code></dd>\n",
       "              <dt>AppName</dt>\n",
       "                <dd><code>MinimumTemperatures</code></dd>\n",
       "            </dl>\n",
       "        </div>\n",
       "        "
      ],
      "text/plain": [
       "<SparkContext master=local appName=MinimumTemperatures>"
      ]
     },
     "execution_count": 43,
     "metadata": {},
     "output_type": "execute_result"
    }
   ],
   "source": [
    "# Import packages.\n",
    "import findspark\n",
    "findspark.init()\n",
    "\n",
    "from pyspark import SparkConf, SparkContext\n",
    "import os, json\n",
    "\n",
    "# Launch spark cluster. Restart cluster, if it is already started.\n",
    "try:\n",
    "    sc\n",
    "    sc.stop()\n",
    "except NameError:\n",
    "    pass\n",
    "finally:\n",
    "    print('Spinning up Spark cluster ...')\n",
    "    conf = SparkConf().setMaster(\"local\").setAppName(\"MinimumTemperatures\")\n",
    "    sc = SparkContext(conf = conf)\n",
    "\n",
    "# Display cluster information.\n",
    "sc"
   ]
  },
  {
   "cell_type": "markdown",
   "metadata": {},
   "source": [
    "Get working directory. Get configurations from configuration file. Use configuration to set data file location."
   ]
  },
  {
   "cell_type": "code",
   "execution_count": 44,
   "metadata": {
    "collapsed": false
   },
   "outputs": [],
   "source": [
    "# Get current working directory.\n",
    "current_working_directory = os.getcwd()\n",
    "\n",
    "# Load configuration file.\n",
    "with open(current_working_directory + '\\configuration.json', 'r') as configuration_file:\n",
    "    dict_configurations = json.load(configuration_file)\n",
    "\n",
    "# Get path part for 1800.csv file from configuration file.\n",
    "_1800_csv_path_part = dict_configurations['1800.csv_path_part']\n",
    "\n",
    "# Get current working directory's parent.\n",
    "current_working_directory_parent = os.path.dirname(current_working_directory)\n",
    "\n",
    "# Get full path for 1800.csv file.\n",
    "_1800_csv_path = os.path.abspath(os.path.join(current_working_directory_parent, _1800_csv_path_part))"
   ]
  },
  {
   "cell_type": "code",
   "execution_count": 45,
   "metadata": {
    "collapsed": false
   },
   "outputs": [
    {
     "data": {
      "text/plain": [
       "('ITE00100554', 'TMAX', 18.5)"
      ]
     },
     "execution_count": 45,
     "metadata": {},
     "output_type": "execute_result"
    }
   ],
   "source": [
    "# Create function to parse each line of data file.\n",
    "def parseLine(line):\n",
    "    fields = line.split(',')\n",
    "    stationID = fields[0]\n",
    "    entryType = fields[2]\n",
    "    temperature = float(fields[3]) * 0.1 * (9.0 / 5.0) + 32.0\n",
    "    return (stationID, entryType, temperature)\n",
    "\n",
    "parseLine('ITE00100554,18000101,TMAX,-75,,,E,')"
   ]
  },
  {
   "cell_type": "code",
   "execution_count": 46,
   "metadata": {
    "collapsed": false
   },
   "outputs": [
    {
     "data": {
      "text/plain": [
       "['ITE00100554,18000101,TMAX,-75,,,E,',\n",
       " 'ITE00100554,18000101,TMIN,-148,,,E,',\n",
       " 'GM000010962,18000101,PRCP,0,,,E,',\n",
       " 'EZE00100082,18000101,TMAX,-86,,,E,',\n",
       " 'EZE00100082,18000101,TMIN,-135,,,E,',\n",
       " 'ITE00100554,18000102,TMAX,-60,,I,E,',\n",
       " 'ITE00100554,18000102,TMIN,-125,,,E,',\n",
       " 'GM000010962,18000102,PRCP,0,,,E,',\n",
       " 'EZE00100082,18000102,TMAX,-44,,,E,',\n",
       " 'EZE00100082,18000102,TMIN,-130,,,E,']"
      ]
     },
     "execution_count": 46,
     "metadata": {},
     "output_type": "execute_result"
    }
   ],
   "source": [
    "lines = sc.textFile(_1800_csv_path)\n",
    "lines.take(10)"
   ]
  },
  {
   "cell_type": "code",
   "execution_count": 47,
   "metadata": {
    "collapsed": false
   },
   "outputs": [
    {
     "data": {
      "text/plain": [
       "[('ITE00100554', 'TMAX', 18.5),\n",
       " ('ITE00100554', 'TMIN', 5.359999999999999),\n",
       " ('GM000010962', 'PRCP', 32.0),\n",
       " ('EZE00100082', 'TMAX', 16.52),\n",
       " ('EZE00100082', 'TMIN', 7.699999999999999),\n",
       " ('ITE00100554', 'TMAX', 21.2),\n",
       " ('ITE00100554', 'TMIN', 9.5),\n",
       " ('GM000010962', 'PRCP', 32.0),\n",
       " ('EZE00100082', 'TMAX', 24.08),\n",
       " ('EZE00100082', 'TMIN', 8.599999999999998)]"
      ]
     },
     "execution_count": 47,
     "metadata": {},
     "output_type": "execute_result"
    }
   ],
   "source": [
    "parsedLines = lines.map(parseLine)\n",
    "parsedLines.take(10)"
   ]
  },
  {
   "cell_type": "code",
   "execution_count": 48,
   "metadata": {
    "collapsed": false
   },
   "outputs": [
    {
     "data": {
      "text/plain": [
       "[('ITE00100554', 'TMIN', 5.359999999999999),\n",
       " ('EZE00100082', 'TMIN', 7.699999999999999),\n",
       " ('ITE00100554', 'TMIN', 9.5),\n",
       " ('EZE00100082', 'TMIN', 8.599999999999998),\n",
       " ('ITE00100554', 'TMIN', 23.72),\n",
       " ('EZE00100082', 'TMIN', 18.86),\n",
       " ('ITE00100554', 'TMIN', 29.66),\n",
       " ('EZE00100082', 'TMIN', 18.68),\n",
       " ('ITE00100554', 'TMIN', 30.919999999999998),\n",
       " ('EZE00100082', 'TMIN', 21.56)]"
      ]
     },
     "execution_count": 48,
     "metadata": {},
     "output_type": "execute_result"
    }
   ],
   "source": [
    "# Filter out lines that contain \"TMIN\" in second field (entryType).\n",
    "minTemps = parsedLines.filter(lambda x: \"TMIN\" in x[1])\n",
    "minTemps.take(10)"
   ]
  },
  {
   "cell_type": "code",
   "execution_count": 49,
   "metadata": {
    "collapsed": false
   },
   "outputs": [
    {
     "data": {
      "text/plain": [
       "[('ITE00100554', 5.359999999999999),\n",
       " ('EZE00100082', 7.699999999999999),\n",
       " ('ITE00100554', 9.5),\n",
       " ('EZE00100082', 8.599999999999998),\n",
       " ('ITE00100554', 23.72),\n",
       " ('EZE00100082', 18.86),\n",
       " ('ITE00100554', 29.66),\n",
       " ('EZE00100082', 18.68),\n",
       " ('ITE00100554', 30.919999999999998),\n",
       " ('EZE00100082', 21.56)]"
      ]
     },
     "execution_count": 49,
     "metadata": {},
     "output_type": "execute_result"
    }
   ],
   "source": [
    "# Create RDD of tuples containing only the 1st (stationID) and 3rd (temperature) fields.\n",
    "stationTemps = minTemps.map(lambda x: (x[0], x[2]))\n",
    "stationTemps.take(10)"
   ]
  },
  {
   "cell_type": "code",
   "execution_count": 89,
   "metadata": {
    "collapsed": false
   },
   "outputs": [
    {
     "data": {
      "text/plain": [
       "[('ITE00100554', 5.359999999999999), ('EZE00100082', 7.699999999999999)]"
      ]
     },
     "execution_count": 89,
     "metadata": {},
     "output_type": "execute_result"
    }
   ],
   "source": [
    "# Compute minimim temperature for each stationID.\n",
    "minTemps = stationTemps.reduceByKey(lambda x, y: min(x,y))\n",
    "minTemps.take(10)"
   ]
  },
  {
   "cell_type": "code",
   "execution_count": 25,
   "metadata": {
    "collapsed": false
   },
   "outputs": [
    {
     "data": {
      "text/plain": [
       "['ITE00100554', 'EZE00100082']"
      ]
     },
     "execution_count": 25,
     "metadata": {},
     "output_type": "execute_result"
    }
   ],
   "source": [
    "# Double check to confirm that there are only two stationIDs relevant to the current analysis.\n",
    "parsedLines.filter(lambda x: 'TMIN' in x[1]).map(lambda x: x[0]).distinct().collect()"
   ]
  },
  {
   "cell_type": "code",
   "execution_count": 112,
   "metadata": {
    "collapsed": false
   },
   "outputs": [
    {
     "name": "stdout",
     "output_type": "stream",
     "text": [
      "ITE00100554\t5.36F\n",
      "EZE00100082\t7.70F\n"
     ]
    }
   ],
   "source": [
    "# Collect stationID & minimum temperature into results list on driver node.\n",
    "results = minTemps.collect();\n",
    "\n",
    "# Print out content of results list.\n",
    "for result in results:\n",
    "    print(result[0] + \"\\t{:.2f}F\".format(result[1]))"
   ]
  },
  {
   "cell_type": "markdown",
   "metadata": {},
   "source": [
    "Extend analytics to include computation of both minimum and maximum temperatures for each location."
   ]
  },
  {
   "cell_type": "code",
   "execution_count": 107,
   "metadata": {
    "collapsed": false
   },
   "outputs": [
    {
     "name": "stdout",
     "output_type": "stream",
     "text": [
      "[('ITE00100554', 'TMAX', 18.5), ('ITE00100554', 'TMIN', 5.359999999999999), ('EZE00100082', 'TMAX', 16.52), ('EZE00100082', 'TMIN', 7.699999999999999), ('ITE00100554', 'TMAX', 21.2), ('ITE00100554', 'TMIN', 9.5), ('EZE00100082', 'TMAX', 24.08), ('EZE00100082', 'TMIN', 8.599999999999998), ('ITE00100554', 'TMAX', 27.86), ('ITE00100554', 'TMIN', 23.72)]\n",
      "\n",
      "[('ITE00100554', 18.5), ('ITE00100554', 5.359999999999999), ('EZE00100082', 16.52), ('EZE00100082', 7.699999999999999), ('ITE00100554', 21.2), ('ITE00100554', 9.5), ('EZE00100082', 24.08), ('EZE00100082', 8.599999999999998), ('ITE00100554', 27.86), ('ITE00100554', 23.72)]\n"
     ]
    }
   ],
   "source": [
    "# Filter for minimum and maximum temperatures.\n",
    "minAndMaxTemps = parsedLines.filter(lambda x: ('TMIN' in x[1]) or ('TMAX' in x[1]))\n",
    "print(minAndMaxTemps.take(10));print('')\n",
    "\n",
    "# Map to RDD of (stationID, temperature)\n",
    "minAndMaxTemps = minAndMaxTemps.map(lambda x: (x[0], x[2]))\n",
    "print(minAndMaxTemps.take(10))"
   ]
  },
  {
   "cell_type": "code",
   "execution_count": 116,
   "metadata": {
    "collapsed": false
   },
   "outputs": [],
   "source": [
    "# Group by station. Convert each group into (stationID, list[temperature]) tuple.\n",
    "groupedStations = minAndMaxTemps.groupByKey().map(lambda x: (x[0], list(x[1])))\n",
    "#groupedStations.take(10)"
   ]
  },
  {
   "cell_type": "code",
   "execution_count": 117,
   "metadata": {
    "collapsed": false
   },
   "outputs": [
    {
     "data": {
      "text/plain": [
       "[('ITE00100554', 5.359999999999999, 90.14000000000001),\n",
       " ('EZE00100082', 7.699999999999999, 90.14000000000001)]"
      ]
     },
     "execution_count": 117,
     "metadata": {},
     "output_type": "execute_result"
    }
   ],
   "source": [
    "# Map each group into (stationID, minimum temperature, maximum temperature) tuple.\n",
    "summarizedTemps = groupedStations.map(lambda x: (x[0], min(x[1]), max(x[1])))\n",
    "summarizedTemps.take(10)"
   ]
  },
  {
   "cell_type": "code",
   "execution_count": 118,
   "metadata": {
    "collapsed": false
   },
   "outputs": [
    {
     "name": "stdout",
     "output_type": "stream",
     "text": [
      "ITE00100554\t5.36F\t90.14F\n",
      "EZE00100082\t7.70F\t90.14F\n"
     ]
    }
   ],
   "source": [
    "# Collect station ID, minimum temperature and maximum temperature\n",
    "# into results_2 list on driver node.\n",
    "results_2 = summarizedTemps.collect();\n",
    "\n",
    "# Print out content of results_2 list.\n",
    "for result in results_2:\n",
    "    print(result[0] + \"\\t{:.2f}F\".format(result[1]) + \"\\t{:.2f}F\".format(result[2]))"
   ]
  }
 ],
 "metadata": {
  "kernelspec": {
   "display_name": "Python 3",
   "language": "python",
   "name": "python3"
  },
  "language_info": {
   "codemirror_mode": {
    "name": "ipython",
    "version": 3
   },
   "file_extension": ".py",
   "mimetype": "text/x-python",
   "name": "python",
   "nbconvert_exporter": "python",
   "pygments_lexer": "ipython3",
   "version": "3.5.2"
  }
 },
 "nbformat": 4,
 "nbformat_minor": 2
}
