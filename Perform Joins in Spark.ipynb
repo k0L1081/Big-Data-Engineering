{
 "cells": [
  {
   "cell_type": "markdown",
   "metadata": {},
   "source": [
    "### Demonstrate various methods to perform joins in Spark ###\n",
    "\n",
    "**1. Perform join using transformation on RDD**<br>\n",
    "**2. Perform join using Spark SQL on data frames**<br>\n",
    "**3. Perform join using SQL on temporary tables**<br>\n",
    "**4. Perform join using SQL on tables**<br>"
   ]
  },
  {
   "cell_type": "code",
   "execution_count": 105,
   "metadata": {
    "collapsed": false
   },
   "outputs": [
    {
     "name": "stdout",
     "output_type": "stream",
     "text": [
      "Spinning up Spark cluster ...\n"
     ]
    },
    {
     "data": {
      "text/html": [
       "\n",
       "        <div>\n",
       "            <p><b>SparkContext</b></p>\n",
       "\n",
       "            <p><a href=\"http://10.0.0.30:4040\">Spark UI</a></p>\n",
       "\n",
       "            <dl>\n",
       "              <dt>Version</dt>\n",
       "                <dd><code>v2.2.0</code></dd>\n",
       "              <dt>Master</dt>\n",
       "                <dd><code>local[8]</code></dd>\n",
       "              <dt>AppName</dt>\n",
       "                <dd><code>JoinsDemo</code></dd>\n",
       "            </dl>\n",
       "        </div>\n",
       "        "
      ],
      "text/plain": [
       "<SparkContext master=local[8] appName=JoinsDemo>"
      ]
     },
     "execution_count": 105,
     "metadata": {},
     "output_type": "execute_result"
    }
   ],
   "source": [
    "# Import package(s).\n",
    "import findspark\n",
    "findspark.init()\n",
    "\n",
    "from pyspark import SparkContext\n",
    "from pyspark.sql import SQLContext\n",
    "\n",
    "import os, json\n",
    "\n",
    "try:\n",
    "    sc\n",
    "    sc.stop()\n",
    "except NameError:\n",
    "    pass\n",
    "finally:\n",
    "    print(\"Spinning up Spark cluster ...\")\n",
    "    sc = SparkContext(appName = 'JoinsDemo', master = 'local[8]')\n",
    "    spark = SQLContext(sc)\n",
    "\n",
    "sc"
   ]
  },
  {
   "cell_type": "markdown",
   "metadata": {},
   "source": [
    "Get working directory. Get configurations from configuration file. Use configurations to set location(s) of data file(s)."
   ]
  },
  {
   "cell_type": "code",
   "execution_count": 106,
   "metadata": {
    "collapsed": false
   },
   "outputs": [],
   "source": [
    "# Get current working directory.\n",
    "currentWorkingDirectory = os.getcwd()\n",
    "\n",
    "# Load configuration file.\n",
    "with open(currentWorkingDirectory + '\\configuration.json', 'r') as configurationFile:\n",
    "    dictConfigurations = json.load(configurationFile)\n",
    "\n",
    "# Get path part for data file(s) from configuration file.\n",
    "zipDataPathPart = dictConfigurations['zipDataLocation']\n",
    "\n",
    "# Get current working directory's parent.\n",
    "currentWorkingDirectoryParent = os.path.dirname(currentWorkingDirectory)\n",
    "\n",
    "# Get full path for data file(s).\n",
    "zipDataPath = os.path.abspath(os.path.join(currentWorkingDirectoryParent, zipDataPathPart))"
   ]
  },
  {
   "cell_type": "markdown",
   "metadata": {
    "collapsed": false
   },
   "source": [
    "Import and preview zip code data."
   ]
  },
  {
   "cell_type": "code",
   "execution_count": 107,
   "metadata": {
    "collapsed": false
   },
   "outputs": [
    {
     "name": "stdout",
     "output_type": "stream",
     "text": [
      "rddZip line count: 81832\n"
     ]
    },
    {
     "data": {
      "text/plain": [
       "['\"RecordNumber\",\"Zipcode\",\"ZipCodeType\",\"City\",\"State\",\"LocationType\",\"Lat\",\"Long\",\"Xaxis\",\"Yaxis\",\"Zaxis\",\"WorldRegion\",\"Country\",\"LocationText\",\"Location\",\"Decommisioned\",\"TaxReturnsFiled\",\"EstimatedPopulation\",\"TotalWages\",\"Notes\"',\n",
       " '1,\"00704\",\"STANDARD\",\"PARC PARQUE\",\"PR\",\"NOT ACCEPTABLE\",17.96,-66.22,0.38,-0.87,0.30,\"NA\",\"US\",\"Parc Parque, PR\",\"NA-US-PR-PARC PARQUE\",\"false\",,,,',\n",
       " '2,\"00704\",\"STANDARD\",\"PASEO COSTA DEL SUR\",\"PR\",\"NOT ACCEPTABLE\",17.96,-66.22,0.38,-0.87,0.30,\"NA\",\"US\",\"Paseo Costa Del Sur, PR\",\"NA-US-PR-PASEO COSTA DEL SUR\",\"false\",,,,',\n",
       " '3,\"00704\",\"STANDARD\",\"SECT LANAUSSE\",\"PR\",\"NOT ACCEPTABLE\",17.96,-66.22,0.38,-0.87,0.30,\"NA\",\"US\",\"Sect Lanausse, PR\",\"NA-US-PR-SECT LANAUSSE\",\"false\",,,,',\n",
       " '4,\"00704\",\"STANDARD\",\"URB EUGENE RICE\",\"PR\",\"NOT ACCEPTABLE\",17.96,-66.22,0.38,-0.87,0.30,\"NA\",\"US\",\"Urb Eugene Rice, PR\",\"NA-US-PR-URB EUGENE RICE\",\"false\",,,,',\n",
       " '5,\"00704\",\"STANDARD\",\"URB GONZALEZ\",\"PR\",\"NOT ACCEPTABLE\",17.96,-66.22,0.38,-0.87,0.30,\"NA\",\"US\",\"Urb Gonzalez, PR\",\"NA-US-PR-URB GONZALEZ\",\"false\",,,,',\n",
       " '6,\"00704\",\"STANDARD\",\"URB LA FABRICA\",\"PR\",\"NOT ACCEPTABLE\",17.96,-66.22,0.38,-0.87,0.30,\"NA\",\"US\",\"Urb La Fabrica, PR\",\"NA-US-PR-URB LA FABRICA\",\"false\",,,,',\n",
       " '7,\"00704\",\"STANDARD\",\"URB MONTE SORIA 2\",\"PR\",\"NOT ACCEPTABLE\",17.96,-66.22,0.38,-0.87,0.30,\"NA\",\"US\",\"Urb Monte Soria 2, PR\",\"NA-US-PR-URB MONTE SORIA 2\",\"false\",,,,',\n",
       " '8,\"00704\",\"STANDARD\",\"VILLAS DEL COQUI\",\"PR\",\"NOT ACCEPTABLE\",17.96,-66.22,0.38,-0.87,0.30,\"NA\",\"US\",\"Villas Del Coqui, PR\",\"NA-US-PR-VILLAS DEL COQUI\",\"false\",,,,',\n",
       " '9,\"00705\",\"STANDARD\",\"AIBONITO\",\"PR\",\"PRIMARY\",18.14,-66.26,0.38,-0.86,0.31,\"NA\",\"US\",\"Aibonito, PR\",\"NA-US-PR-AIBONITO\",\"false\",,,,']"
      ]
     },
     "execution_count": 107,
     "metadata": {},
     "output_type": "execute_result"
    }
   ],
   "source": [
    "# Import zip data file.\n",
    "rddZip = sc.textFile(zipDataPath)\n",
    "\n",
    "# Display line count.\n",
    "print('rddZip line count:', rddZip.count())\n",
    "\n",
    "# Display first 10 lines.\n",
    "rddZip.take(10)"
   ]
  },
  {
   "cell_type": "markdown",
   "metadata": {},
   "source": [
    "For the purposes of demonstrating joins between two datasets, vertically split rddZip into two RDDs:\n",
    "\n",
    "1. **rddZipCodeCity:** ZipCode, City\n",
    "2. **rddZipCodeState:** ZipCode, State\n",
    "\n",
    "Create rddZipCodeCity."
   ]
  },
  {
   "cell_type": "code",
   "execution_count": 108,
   "metadata": {
    "collapsed": false
   },
   "outputs": [
    {
     "data": {
      "text/plain": [
       "('00704', 'PARC PARQUE')"
      ]
     },
     "execution_count": 108,
     "metadata": {},
     "output_type": "execute_result"
    }
   ],
   "source": [
    "# Create function to parse out Zip Code & City from rddZip.\n",
    "def parseOutZipCodeCity(line):\n",
    "    fields = line.split(',')\n",
    "    zipCode = fields[1].replace('\"', '')\n",
    "    city = fields[3].replace('\"', '')\n",
    "    \n",
    "    return(zipCode, city)\n",
    "    \n",
    "# Test function on single line.\n",
    "parseOutZipCodeCity('1,\"00704\",\"STANDARD\",\"PARC PARQUE\",\"PR\",\"NOT ACCEPTABLE\",17.96,-66.22,0.38,-0.87,0.30,\"NA\",\"US\",\"Parc Parque, PR\",\"NA-US-PR-PARC PARQUE\",\"false\",,,,')\n"
   ]
  },
  {
   "cell_type": "code",
   "execution_count": 109,
   "metadata": {
    "collapsed": false
   },
   "outputs": [
    {
     "data": {
      "text/plain": [
       "[('00704', 'PARC PARQUE'),\n",
       " ('00704', 'PASEO COSTA DEL SUR'),\n",
       " ('00704', 'SECT LANAUSSE'),\n",
       " ('00704', 'URB EUGENE RICE'),\n",
       " ('00704', 'URB GONZALEZ'),\n",
       " ('00704', 'URB LA FABRICA'),\n",
       " ('00704', 'URB MONTE SORIA 2'),\n",
       " ('00704', 'VILLAS DEL COQUI'),\n",
       " ('00705', 'AIBONITO'),\n",
       " ('00705', 'BDA SAN LUIS')]"
      ]
     },
     "execution_count": 109,
     "metadata": {},
     "output_type": "execute_result"
    }
   ],
   "source": [
    "# Create rddZipCodeCity RDD.\n",
    "rddZipCodeCity = rddZip.map(parseOutZipCodeCity)\n",
    "\n",
    "# Filter out header line.\n",
    "rddZipCodeCity = rddZipCodeCity.filter(lambda x: x != ('Zipcode', 'City'))\n",
    "\n",
    "# Display first 10 lines.\n",
    "rddZipCodeCity.take(10)"
   ]
  },
  {
   "cell_type": "markdown",
   "metadata": {},
   "source": [
    "Create rddZipCodeState."
   ]
  },
  {
   "cell_type": "code",
   "execution_count": 110,
   "metadata": {
    "collapsed": false
   },
   "outputs": [
    {
     "data": {
      "text/plain": [
       "('00704', 'PR')"
      ]
     },
     "execution_count": 110,
     "metadata": {},
     "output_type": "execute_result"
    }
   ],
   "source": [
    "# Create function to parse out Zip Code & State from rddZip.\n",
    "def parseOutZipCodeState(line):\n",
    "    fields = line.split(',')\n",
    "    zipCode = fields[1].replace('\"', '')\n",
    "    state = fields[4].replace('\"', '')\n",
    "    \n",
    "    return(zipCode, state)\n",
    "    \n",
    "# Test function on single line.\n",
    "parseOutZipCodeState('1,\"00704\",\"STANDARD\",\"PARC PARQUE\",\"PR\",\"NOT ACCEPTABLE\",17.96,-66.22,0.38,-0.87,0.30,\"NA\",\"US\",\"Parc Parque, PR\",\"NA-US-PR-PARC PARQUE\",\"false\",,,,')\n"
   ]
  },
  {
   "cell_type": "code",
   "execution_count": 111,
   "metadata": {
    "collapsed": false
   },
   "outputs": [
    {
     "data": {
      "text/plain": [
       "[('09790', 'AE'),\n",
       " ('65079', 'MO'),\n",
       " ('57709', 'SD'),\n",
       " ('27321', 'NC'),\n",
       " ('00678', 'PR'),\n",
       " ('75001', 'TX'),\n",
       " ('08219', 'NJ'),\n",
       " ('40252', 'KY'),\n",
       " ('03303', 'NH'),\n",
       " ('74047', 'OK')]"
      ]
     },
     "execution_count": 111,
     "metadata": {},
     "output_type": "execute_result"
    }
   ],
   "source": [
    "# Create rddZipCodeState RDD. Use distinct values.\n",
    "rddZipCodeState = rddZip.map(parseOutZipCodeState).distinct()\n",
    "\n",
    "# Filter out header line.\n",
    "rddZipCodeState = rddZipCodeState.filter(lambda x: x != ('Zipcode', 'State'))\n",
    "\n",
    "# Display first 10 lines.\n",
    "rddZipCodeState.take(10)"
   ]
  },
  {
   "cell_type": "markdown",
   "metadata": {},
   "source": [
    "### Perform join using transformation on RDD ###\n",
    "\n",
    "Since *Zip Code* is the key in both rddZipCodeCity and rddZipCodState, use *Zip Code* as join key."
   ]
  },
  {
   "cell_type": "code",
   "execution_count": 112,
   "metadata": {
    "collapsed": false
   },
   "outputs": [
    {
     "data": {
      "text/plain": [
       "[('67056', ('HALSTEAD', 'KS')),\n",
       " ('11973', ('UPTON', 'NY')),\n",
       " ('98117', ('SEATTLE', 'WA')),\n",
       " ('98117', ('CROWN HILL', 'WA')),\n",
       " ('46407', ('GARY', 'IN')),\n",
       " ('12451', ('LEEDS', 'NY')),\n",
       " ('20656', ('LOVEVILLE', 'MD')),\n",
       " ('17365', ('WELLSVILLE', 'PA')),\n",
       " ('75860', ('TEAGUE', 'TX')),\n",
       " ('75860', ('CLAY HILL', 'TX'))]"
      ]
     },
     "execution_count": 112,
     "metadata": {},
     "output_type": "execute_result"
    }
   ],
   "source": [
    "rddZipCodeCityState = rddZipCodeCity.join(rddZipCodeState)\n",
    "\n",
    "# Display first 10 lines.\n",
    "rddZipCodeCityState.take(10)"
   ]
  },
  {
   "cell_type": "markdown",
   "metadata": {},
   "source": [
    "### Perform join using Spark SQL on data frames ###"
   ]
  },
  {
   "cell_type": "markdown",
   "metadata": {},
   "source": [
    "Convert rddZipCodeCity and rddZipCodeState to data frames."
   ]
  },
  {
   "cell_type": "code",
   "execution_count": 113,
   "metadata": {
    "collapsed": false
   },
   "outputs": [
    {
     "name": "stdout",
     "output_type": "stream",
     "text": [
      "+-------+-------------------+\n",
      "|ZipCode|               City|\n",
      "+-------+-------------------+\n",
      "|  00704|        PARC PARQUE|\n",
      "|  00704|PASEO COSTA DEL SUR|\n",
      "|  00704|      SECT LANAUSSE|\n",
      "|  00704|    URB EUGENE RICE|\n",
      "|  00704|       URB GONZALEZ|\n",
      "|  00704|     URB LA FABRICA|\n",
      "|  00704|  URB MONTE SORIA 2|\n",
      "|  00704|   VILLAS DEL COQUI|\n",
      "|  00705|           AIBONITO|\n",
      "|  00705|       BDA SAN LUIS|\n",
      "+-------+-------------------+\n",
      "only showing top 10 rows\n",
      "\n"
     ]
    }
   ],
   "source": [
    "# Create dfZipCodeCity data frame.\n",
    "dfZipCodeCity = rddZipCodeCity.toDF(['ZipCode', 'City'])\n",
    "\n",
    "# Display first 10 lines.\n",
    "dfZipCodeCity.show(10)"
   ]
  },
  {
   "cell_type": "code",
   "execution_count": 114,
   "metadata": {
    "collapsed": false
   },
   "outputs": [
    {
     "name": "stdout",
     "output_type": "stream",
     "text": [
      "+-------+-----+\n",
      "|ZipCode|State|\n",
      "+-------+-----+\n",
      "|  09790|   AE|\n",
      "|  65079|   MO|\n",
      "|  57709|   SD|\n",
      "|  27321|   NC|\n",
      "|  00678|   PR|\n",
      "|  75001|   TX|\n",
      "|  08219|   NJ|\n",
      "|  40252|   KY|\n",
      "|  03303|   NH|\n",
      "|  74047|   OK|\n",
      "+-------+-----+\n",
      "only showing top 10 rows\n",
      "\n"
     ]
    }
   ],
   "source": [
    "# Create dfZipCodeState data frame.\n",
    "dfZipCodeState = rddZipCodeState.toDF(['ZipCode', 'State'])\n",
    "\n",
    "# Display first 10 lines.\n",
    "dfZipCodeState.show(10)"
   ]
  },
  {
   "cell_type": "markdown",
   "metadata": {},
   "source": [
    "Perform inner join of dfZipCodeCity and dfZipCodeState using *ZipCode* field."
   ]
  },
  {
   "cell_type": "code",
   "execution_count": 115,
   "metadata": {
    "collapsed": false
   },
   "outputs": [
    {
     "name": "stdout",
     "output_type": "stream",
     "text": [
      "+-------+--------------------+-------+-----+\n",
      "|ZipCode|                City|ZipCode|State|\n",
      "+-------+--------------------+-------+-----+\n",
      "|  02053|              MEDWAY|  02053|   MA|\n",
      "|  02070|        SHELDONVILLE|  02070|   MA|\n",
      "|  02070|            WRENTHAM|  02070|   MA|\n",
      "|  02090|            WESTWOOD|  02090|   MA|\n",
      "|  02090|           ISLINGTON|  02090|   MA|\n",
      "|  03442|          BENNINGTON|  03442|   NH|\n",
      "|  03904|             KITTERY|  03904|   ME|\n",
      "|  04438|           FRANKFORT|  04438|   ME|\n",
      "|  06382|          UNCASVILLE|  06382|   CT|\n",
      "|  06518|              HAMDEN|  06518|   CT|\n",
      "|  06518|           NEW HAVEN|  06518|   CT|\n",
      "|  06518|CENTERVILLE-MOUNT...|  06518|   CT|\n",
      "|  06518|        MOUNT CARMEL|  06518|   CT|\n",
      "|  06518|             N HAVEN|  06518|   CT|\n",
      "|  07820|           ALLAMUCHY|  07820|   NJ|\n",
      "|  08648|   LAWRENCE TOWNSHIP|  08648|   NJ|\n",
      "|  08648|            LAWRENCE|  08648|   NJ|\n",
      "|  08648|        LAWRENCE TWP|  08648|   NJ|\n",
      "|  08648|       LAWRENCEVILLE|  08648|   NJ|\n",
      "|  08648|             TRENTON|  08648|   NJ|\n",
      "+-------+--------------------+-------+-----+\n",
      "only showing top 20 rows\n",
      "\n"
     ]
    }
   ],
   "source": [
    "dfZipCodeCityState = dfZipCodeCity.join(dfZipCodeState, dfZipCodeCity['ZipCode'] == dfZipCodeState['ZipCode'])\n",
    "\n",
    "# Display first 20 lines.\n",
    "dfZipCodeCityState.show()"
   ]
  },
  {
   "cell_type": "markdown",
   "metadata": {},
   "source": [
    "The join above returns *ZipCode* twice, since *ZipCode* exists in each dataframe.\n",
    "\n",
    "The join method below returns *ZipCode* only once."
   ]
  },
  {
   "cell_type": "code",
   "execution_count": 116,
   "metadata": {
    "collapsed": false
   },
   "outputs": [
    {
     "name": "stdout",
     "output_type": "stream",
     "text": [
      "+-------+--------------------+-----+\n",
      "|ZipCode|                City|State|\n",
      "+-------+--------------------+-----+\n",
      "|  02053|              MEDWAY|   MA|\n",
      "|  02070|        SHELDONVILLE|   MA|\n",
      "|  02070|            WRENTHAM|   MA|\n",
      "|  02090|            WESTWOOD|   MA|\n",
      "|  02090|           ISLINGTON|   MA|\n",
      "|  03442|          BENNINGTON|   NH|\n",
      "|  03904|             KITTERY|   ME|\n",
      "|  04438|           FRANKFORT|   ME|\n",
      "|  06382|          UNCASVILLE|   CT|\n",
      "|  06518|              HAMDEN|   CT|\n",
      "|  06518|           NEW HAVEN|   CT|\n",
      "|  06518|CENTERVILLE-MOUNT...|   CT|\n",
      "|  06518|        MOUNT CARMEL|   CT|\n",
      "|  06518|             N HAVEN|   CT|\n",
      "|  07820|           ALLAMUCHY|   NJ|\n",
      "|  08648|   LAWRENCE TOWNSHIP|   NJ|\n",
      "|  08648|            LAWRENCE|   NJ|\n",
      "|  08648|        LAWRENCE TWP|   NJ|\n",
      "|  08648|       LAWRENCEVILLE|   NJ|\n",
      "|  08648|             TRENTON|   NJ|\n",
      "+-------+--------------------+-----+\n",
      "only showing top 20 rows\n",
      "\n"
     ]
    }
   ],
   "source": [
    "dfZipCodeCityState2 = dfZipCodeCity.join(dfZipCodeState, ['ZipCode'])\n",
    "\n",
    "# Display first 10 lines.\n",
    "dfZipCodeCityState2.show()"
   ]
  },
  {
   "cell_type": "markdown",
   "metadata": {},
   "source": [
    "### Perform join using SQL on temporary tables ###"
   ]
  },
  {
   "cell_type": "markdown",
   "metadata": {},
   "source": [
    "Create temporary tables from dfZipCodeCity and dfZipCodeState."
   ]
  },
  {
   "cell_type": "code",
   "execution_count": 117,
   "metadata": {
    "collapsed": false
   },
   "outputs": [
    {
     "name": "stdout",
     "output_type": "stream",
     "text": [
      "+-------+--------------------+\n",
      "|ZipCode|                City|\n",
      "+-------+--------------------+\n",
      "|  00704|         PARC PARQUE|\n",
      "|  00704| PASEO COSTA DEL SUR|\n",
      "|  00704|       SECT LANAUSSE|\n",
      "|  00704|     URB EUGENE RICE|\n",
      "|  00704|        URB GONZALEZ|\n",
      "|  00704|      URB LA FABRICA|\n",
      "|  00704|   URB MONTE SORIA 2|\n",
      "|  00704|    VILLAS DEL COQUI|\n",
      "|  00705|            AIBONITO|\n",
      "|  00705|        BDA SAN LUIS|\n",
      "|  00705|           BO LLANOS|\n",
      "|  00705|  BRISAS DE AIBONITO|\n",
      "|  00705|COLINAS DE SAN FR...|\n",
      "|  00705|       EST DEL LLANO|\n",
      "|  00705|     EXT BELLA VISTA|\n",
      "|  00705|        EXT SAN LUIS|\n",
      "|  00705|   EXT VILLA ROSALES|\n",
      "|  00705|        REPTO ROBLES|\n",
      "|  00705|     URB BELLA VISTA|\n",
      "|  00705|     URB BUENA VISTA|\n",
      "+-------+--------------------+\n",
      "only showing top 20 rows\n",
      "\n"
     ]
    }
   ],
   "source": [
    "# Create temporary table from dfZipCodeCity data frame.\n",
    "dfZipCodeCity.registerTempTable('tblZipCodeCity')\n",
    "\n",
    "# Display first 20 lines.\n",
    "dfZipCodeCityFromTempTable = spark.sql('select * from tblZipCodeCity')\n",
    "dfZipCodeCityFromTempTable.show()"
   ]
  },
  {
   "cell_type": "code",
   "execution_count": 118,
   "metadata": {
    "collapsed": false
   },
   "outputs": [
    {
     "name": "stdout",
     "output_type": "stream",
     "text": [
      "+-------+-----+\n",
      "|ZipCode|State|\n",
      "+-------+-----+\n",
      "|  09790|   AE|\n",
      "|  65079|   MO|\n",
      "|  57709|   SD|\n",
      "|  27321|   NC|\n",
      "|  00678|   PR|\n",
      "|  75001|   TX|\n",
      "|  08219|   NJ|\n",
      "|  40252|   KY|\n",
      "|  03303|   NH|\n",
      "|  74047|   OK|\n",
      "|  48091|   MI|\n",
      "|  55379|   MN|\n",
      "|  45821|   OH|\n",
      "|  12803|   NY|\n",
      "|  16257|   PA|\n",
      "|  15675|   PA|\n",
      "|  21521|   MD|\n",
      "|  04645|   ME|\n",
      "|  67880|   KS|\n",
      "|  22850|   VA|\n",
      "+-------+-----+\n",
      "only showing top 20 rows\n",
      "\n"
     ]
    }
   ],
   "source": [
    "# Create temporary table from dfZipCodeState data frame.\n",
    "dfZipCodeState.registerTempTable('tblZipCodeState')\n",
    "\n",
    "dfZipCodeStateFromTempTable = spark.sql('select * from tblZipCodeState')\n",
    "\n",
    "# Display first 20 lines.\n",
    "dfZipCodeStateFromTempTable.show()"
   ]
  },
  {
   "cell_type": "markdown",
   "metadata": {},
   "source": [
    "Perform inner join of tblZipCodeCity and tblZipCodeState using *ZipCode* field."
   ]
  },
  {
   "cell_type": "code",
   "execution_count": 119,
   "metadata": {
    "collapsed": false
   },
   "outputs": [
    {
     "name": "stdout",
     "output_type": "stream",
     "text": [
      "+-------+--------------------+-----+\n",
      "|ZipCode|                City|State|\n",
      "+-------+--------------------+-----+\n",
      "|  02053|              MEDWAY|   MA|\n",
      "|  02070|        SHELDONVILLE|   MA|\n",
      "|  02070|            WRENTHAM|   MA|\n",
      "|  02090|            WESTWOOD|   MA|\n",
      "|  02090|           ISLINGTON|   MA|\n",
      "|  03442|          BENNINGTON|   NH|\n",
      "|  03904|             KITTERY|   ME|\n",
      "|  04438|           FRANKFORT|   ME|\n",
      "|  06382|          UNCASVILLE|   CT|\n",
      "|  06518|              HAMDEN|   CT|\n",
      "|  06518|           NEW HAVEN|   CT|\n",
      "|  06518|CENTERVILLE-MOUNT...|   CT|\n",
      "|  06518|        MOUNT CARMEL|   CT|\n",
      "|  06518|             N HAVEN|   CT|\n",
      "|  07820|           ALLAMUCHY|   NJ|\n",
      "|  08648|   LAWRENCE TOWNSHIP|   NJ|\n",
      "|  08648|            LAWRENCE|   NJ|\n",
      "|  08648|        LAWRENCE TWP|   NJ|\n",
      "|  08648|       LAWRENCEVILLE|   NJ|\n",
      "|  08648|             TRENTON|   NJ|\n",
      "+-------+--------------------+-----+\n",
      "only showing top 20 rows\n",
      "\n"
     ]
    }
   ],
   "source": [
    "dfZipCodeCityStateFromTempTables = spark.sql('select zcc.ZipCode, zcc.City, zcs.State from tblZipCodeCity zcc \\\n",
    "                                                inner join tblZipCodeState zcs \\\n",
    "                                                on zcc.ZipCode = zcs.ZipCode')\n",
    "\n",
    "# Display first 20 lines.\n",
    "dfZipCodeCityStateFromTempTables.show()"
   ]
  },
  {
   "cell_type": "markdown",
   "metadata": {},
   "source": [
    "### Perform join using SQL on tables ###"
   ]
  },
  {
   "cell_type": "markdown",
   "metadata": {},
   "source": [
    "Create tables from dfZipCodeCity and dfZipCodeState."
   ]
  },
  {
   "cell_type": "code",
   "execution_count": 123,
   "metadata": {
    "collapsed": false
   },
   "outputs": [
    {
     "name": "stdout",
     "output_type": "stream",
     "text": [
      "+-------+--------------------+\n",
      "|ZipCode|                City|\n",
      "+-------+--------------------+\n",
      "|  00704|         PARC PARQUE|\n",
      "|  00704| PASEO COSTA DEL SUR|\n",
      "|  00704|       SECT LANAUSSE|\n",
      "|  00704|     URB EUGENE RICE|\n",
      "|  00704|        URB GONZALEZ|\n",
      "|  00704|      URB LA FABRICA|\n",
      "|  00704|   URB MONTE SORIA 2|\n",
      "|  00704|    VILLAS DEL COQUI|\n",
      "|  00705|            AIBONITO|\n",
      "|  00705|        BDA SAN LUIS|\n",
      "|  00705|           BO LLANOS|\n",
      "|  00705|  BRISAS DE AIBONITO|\n",
      "|  00705|COLINAS DE SAN FR...|\n",
      "|  00705|       EST DEL LLANO|\n",
      "|  00705|     EXT BELLA VISTA|\n",
      "|  00705|        EXT SAN LUIS|\n",
      "|  00705|   EXT VILLA ROSALES|\n",
      "|  00705|        REPTO ROBLES|\n",
      "|  00705|     URB BELLA VISTA|\n",
      "|  00705|     URB BUENA VISTA|\n",
      "+-------+--------------------+\n",
      "only showing top 20 rows\n",
      "\n"
     ]
    }
   ],
   "source": [
    "# Create table from dfZipCodeCity data frame.\n",
    "dfZipCodeCity.write.mode('overwrite').saveAsTable('tblZipCodeCity2')\n",
    "\n",
    "# Display first 20 lines.\n",
    "dfZipCodeCityFromTable = spark.sql('select * from tblZipCodeCity2')\n",
    "dfZipCodeCityFromTable.show()"
   ]
  },
  {
   "cell_type": "code",
   "execution_count": 124,
   "metadata": {
    "collapsed": false
   },
   "outputs": [
    {
     "name": "stdout",
     "output_type": "stream",
     "text": [
      "+-------+-----+\n",
      "|ZipCode|State|\n",
      "+-------+-----+\n",
      "|  05829|   VT|\n",
      "|  59903|   MT|\n",
      "|  59535|   MT|\n",
      "|  14470|   NY|\n",
      "|  36576|   AL|\n",
      "|  33183|   FL|\n",
      "|  46721|   IN|\n",
      "|  76487|   TX|\n",
      "|  28656|   NC|\n",
      "|  85392|   AZ|\n",
      "|  71266|   LA|\n",
      "|  23112|   VA|\n",
      "|  16853|   PA|\n",
      "|  04217|   ME|\n",
      "|  49427|   MI|\n",
      "|  07605|   NJ|\n",
      "|  03071|   NH|\n",
      "|  76934|   TX|\n",
      "|  54152|   WI|\n",
      "|  80721|   CO|\n",
      "+-------+-----+\n",
      "only showing top 20 rows\n",
      "\n"
     ]
    }
   ],
   "source": [
    "# Create table from dfZipCodeState data frame.\n",
    "dfZipCodeState.write.mode('overwrite').saveAsTable('tblZipCodeState2')\n",
    "\n",
    "# Display first 20 lines.\n",
    "dfZipCodeStateFromTable = spark.sql('select * from tblZipCodeState2')\n",
    "dfZipCodeStateFromTable.show()"
   ]
  },
  {
   "cell_type": "markdown",
   "metadata": {},
   "source": [
    "Perform inner join of tblZipCodeCity2 and tblZipCodeState2 using *ZipCode* field."
   ]
  },
  {
   "cell_type": "code",
   "execution_count": 122,
   "metadata": {
    "collapsed": false
   },
   "outputs": [
    {
     "name": "stdout",
     "output_type": "stream",
     "text": [
      "+-------+--------------------+-----+\n",
      "|ZipCode|                City|State|\n",
      "+-------+--------------------+-----+\n",
      "|  00704|         PARC PARQUE|   PR|\n",
      "|  00704| PASEO COSTA DEL SUR|   PR|\n",
      "|  00704|       SECT LANAUSSE|   PR|\n",
      "|  00704|     URB EUGENE RICE|   PR|\n",
      "|  00704|        URB GONZALEZ|   PR|\n",
      "|  00704|      URB LA FABRICA|   PR|\n",
      "|  00704|   URB MONTE SORIA 2|   PR|\n",
      "|  00704|    VILLAS DEL COQUI|   PR|\n",
      "|  00705|            AIBONITO|   PR|\n",
      "|  00705|        BDA SAN LUIS|   PR|\n",
      "|  00705|           BO LLANOS|   PR|\n",
      "|  00705|  BRISAS DE AIBONITO|   PR|\n",
      "|  00705|COLINAS DE SAN FR...|   PR|\n",
      "|  00705|       EST DEL LLANO|   PR|\n",
      "|  00705|     EXT BELLA VISTA|   PR|\n",
      "|  00705|        EXT SAN LUIS|   PR|\n",
      "|  00705|   EXT VILLA ROSALES|   PR|\n",
      "|  00705|        REPTO ROBLES|   PR|\n",
      "|  00705|     URB BELLA VISTA|   PR|\n",
      "|  00705|     URB BUENA VISTA|   PR|\n",
      "+-------+--------------------+-----+\n",
      "only showing top 20 rows\n",
      "\n"
     ]
    }
   ],
   "source": [
    "dfZipCodeCityStateFromTables = spark.sql('select zcc2.ZipCode, zcc2.City, zcs2.State from tblZipCodeCity2 zcc2 \\\n",
    "                                                inner join tblZipCodeState2 zcs2 \\\n",
    "                                                on zcc2.ZipCode = zcs2.ZipCode')\n",
    "\n",
    "# Display first 20 lines.\n",
    "dfZipCodeCityStateFromTables.show()"
   ]
  }
 ],
 "metadata": {
  "kernelspec": {
   "display_name": "Python 3",
   "language": "python",
   "name": "python3"
  },
  "language_info": {
   "codemirror_mode": {
    "name": "ipython",
    "version": 3
   },
   "file_extension": ".py",
   "mimetype": "text/x-python",
   "name": "python",
   "nbconvert_exporter": "python",
   "pygments_lexer": "ipython3",
   "version": "3.5.2"
  }
 },
 "nbformat": 4,
 "nbformat_minor": 0
}
